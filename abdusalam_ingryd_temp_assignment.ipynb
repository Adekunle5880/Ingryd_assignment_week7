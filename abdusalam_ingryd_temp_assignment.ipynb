{
 "cells": [
  {
   "cell_type": "markdown",
   "id": "27c541cb-ec9b-455f-aae8-e0b8aa84c4ef",
   "metadata": {},
   "source": [
    "#### Create a list of human temperatures\n",
    "###### Find the mean, median, mode, range, variance, standard deviation, and mean deviation"
   ]
  },
  {
   "cell_type": "code",
   "execution_count": 51,
   "id": "d72a0417-396c-49bc-9745-6a8ca57540fc",
   "metadata": {},
   "outputs": [
    {
     "name": "stdout",
     "output_type": "stream",
     "text": [
      "[30, 31, 32, 33, 35, 35, 36, 37, 38, 39]\n"
     ]
    }
   ],
   "source": [
    "# temp_list = list(range(30, 40))\n",
    "temp_list = [30, 31, 32, 33, 35, 35, 36, 37, 38, 39]\n",
    "print(temp_list)"
   ]
  },
  {
   "cell_type": "code",
   "execution_count": 52,
   "id": "a1f64bae-8863-460c-a79e-463c045b4478",
   "metadata": {},
   "outputs": [
    {
     "name": "stdout",
     "output_type": "stream",
     "text": [
      "The mean of the temperature list is: 34.6\n"
     ]
    }
   ],
   "source": [
    "# mean\n",
    "\n",
    "temp_mean = sum(temp_list)/len(temp_list)\n",
    "print(f'The mean of the temperature list is: {temp_mean:.1f}')"
   ]
  },
  {
   "cell_type": "code",
   "execution_count": 53,
   "id": "85f3146c-f6fb-442a-b3d8-b1e4e35b2c55",
   "metadata": {},
   "outputs": [
    {
     "name": "stdout",
     "output_type": "stream",
     "text": [
      "The median of the temperature list is: 35.0\n"
     ]
    }
   ],
   "source": [
    "# median\n",
    "\n",
    "sorted_temp = sorted(temp_list)\n",
    "sorted_temp_len = len(sorted_temp)\n",
    "\n",
    "# getting the median for both even and odd cases\n",
    "if sorted_temp_len % 2 == 1:\n",
    "    median = sorted_temp[sorted_temp_len//2]\n",
    "    print(f'The median of the temperature list is: {median:.1f}')\n",
    "else: \n",
    "    median_1 = sorted_temp[(sorted_temp_len-1) // 2]\n",
    "    median_2 = sorted_temp[sorted_temp_len // 2]\n",
    "    median = (median_1 + median_2) / 2\n",
    "    print(f'The median of the temperature list is: {median:.1f}')\n",
    "\n",
    "    "
   ]
  },
  {
   "cell_type": "code",
   "execution_count": 54,
   "id": "6fa9a2f3-e1b0-47bb-ba2c-e43a498ff33b",
   "metadata": {},
   "outputs": [
    {
     "name": "stdout",
     "output_type": "stream",
     "text": [
      "The mode of the temperature list is: [35]\n"
     ]
    }
   ],
   "source": [
    "# mode \n",
    "\n",
    "frequency_dict = {}  # Create a dictionary to store the frequency of each number\n",
    "\n",
    "# Count the frequency of each number\n",
    "for num in temp_list:\n",
    "    if num in frequency_dict:\n",
    "        frequency_dict[num] += 1\n",
    "    else:\n",
    "        frequency_dict[num] = 1\n",
    "\n",
    "# Find the number(s) with the highest frequency (mode)\n",
    "max_frequency = max(frequency_dict.values())\n",
    "mode = [num for num, freq in frequency_dict.items() if freq == max_frequency]\n",
    "\n",
    "print(f'The mode of the temperature list is: {mode}')\n",
    "\n",
    "\n",
    "\n"
   ]
  },
  {
   "cell_type": "code",
   "execution_count": 55,
   "id": "46b1227c-8e37-480f-92d6-40167615e1ab",
   "metadata": {},
   "outputs": [
    {
     "name": "stdout",
     "output_type": "stream",
     "text": [
      "The range of the temperature list is: 9\n"
     ]
    }
   ],
   "source": [
    "# range\n",
    "\n",
    "temp_range = max(temp_list) - min(temp_list)\n",
    "print(f'The range of the temperature list is: {temp_range}')"
   ]
  },
  {
   "cell_type": "code",
   "execution_count": 56,
   "id": "2885db96-c3a3-4e42-b28b-a9b419ff1906",
   "metadata": {},
   "outputs": [
    {
     "name": "stdout",
     "output_type": "stream",
     "text": [
      "The range of the temperature list is: 9\n"
     ]
    }
   ],
   "source": [
    "# variance\n",
    "\n",
    "# Calculate the squared differences from the mean\n",
    "squared_diff = [(x - temp_mean)**2 for x in temp_list]\n",
    "\n",
    "variance = sum(squared_diff) / len(temp_list)\n",
    "print(f'The range of the temperature list is: {temp_range}')"
   ]
  },
  {
   "cell_type": "code",
   "execution_count": 57,
   "id": "5055518d-fac7-4c3f-a28e-1b90277f8e0b",
   "metadata": {},
   "outputs": [
    {
     "name": "stdout",
     "output_type": "stream",
     "text": [
      "The range of the temperature list is: 2.8705400188814645\n"
     ]
    }
   ],
   "source": [
    "# standard deviation\n",
    "\n",
    "# since standard deviation if the square root of variance\n",
    "s_variance = variance ** 0.5\n",
    "print(f'The range of the temperature list is: {s_variance}')"
   ]
  },
  {
   "cell_type": "code",
   "execution_count": 58,
   "id": "01ea455f-71ae-4143-8a89-79202bfe7d57",
   "metadata": {},
   "outputs": [
    {
     "name": "stdout",
     "output_type": "stream",
     "text": [
      "The range of the temperature list is: 2.4799999999999995\n"
     ]
    }
   ],
   "source": [
    "# mean deviation\n",
    "\n",
    "# Calculate the absolute differences from the mean\n",
    "abs_diff = [abs(x - temp_mean) for x in temp_list]\n",
    "\n",
    "mean_deviation = sum(abs_diff) / sorted_temp_len\n",
    "\n",
    "print(f'The range of the temperature list is: {mean_deviation}')"
   ]
  }
 ],
 "metadata": {
  "kernelspec": {
   "display_name": "Python 3 (ipykernel)",
   "language": "python",
   "name": "python3"
  },
  "language_info": {
   "codemirror_mode": {
    "name": "ipython",
    "version": 3
   },
   "file_extension": ".py",
   "mimetype": "text/x-python",
   "name": "python",
   "nbconvert_exporter": "python",
   "pygments_lexer": "ipython3",
   "version": "3.11.4"
  }
 },
 "nbformat": 4,
 "nbformat_minor": 5
}
